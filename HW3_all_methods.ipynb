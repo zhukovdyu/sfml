{
 "cells": [
  {
   "cell_type": "code",
   "execution_count": 1,
   "metadata": {},
   "outputs": [],
   "source": [
    "import pandas as pd\n",
    "import numpy as np\n",
    "import matplotlib.pyplot as plt\n",
    "%matplotlib inline\n",
    "\n",
    "plt.style.use('ggplot')\n",
    "plt.rcParams['figure.figsize'] = (18,12)\n",
    "\n",
    "from ipywidgets import interact, IntSlider, FloatSlider"
   ]
  },
  {
   "cell_type": "code",
   "execution_count": 2,
   "metadata": {},
   "outputs": [],
   "source": [
    "df_sample = pd.read_csv('sample_submission.csv', sep=',', encoding='utf8')"
   ]
  },
  {
   "cell_type": "code",
   "execution_count": 3,
   "metadata": {},
   "outputs": [
    {
     "data": {
      "text/html": [
       "<div>\n",
       "<style scoped>\n",
       "    .dataframe tbody tr th:only-of-type {\n",
       "        vertical-align: middle;\n",
       "    }\n",
       "\n",
       "    .dataframe tbody tr th {\n",
       "        vertical-align: top;\n",
       "    }\n",
       "\n",
       "    .dataframe thead th {\n",
       "        text-align: right;\n",
       "    }\n",
       "</style>\n",
       "<table border=\"1\" class=\"dataframe\">\n",
       "  <thead>\n",
       "    <tr style=\"text-align: right;\">\n",
       "      <th></th>\n",
       "      <th>_id</th>\n",
       "      <th>target</th>\n",
       "    </tr>\n",
       "  </thead>\n",
       "  <tbody>\n",
       "    <tr>\n",
       "      <th>0</th>\n",
       "      <td>66810d8e6bf2b41c880a7bc6c8a1e295</td>\n",
       "      <td>0</td>\n",
       "    </tr>\n",
       "    <tr>\n",
       "      <th>1</th>\n",
       "      <td>ccac3879652b08cb8b44c1920fd93afa</td>\n",
       "      <td>0</td>\n",
       "    </tr>\n",
       "    <tr>\n",
       "      <th>2</th>\n",
       "      <td>fcccab4d7a76f70647f015f2c84c2af8</td>\n",
       "      <td>0</td>\n",
       "    </tr>\n",
       "    <tr>\n",
       "      <th>3</th>\n",
       "      <td>ed8399278c30678dab739045fa12b440</td>\n",
       "      <td>0</td>\n",
       "    </tr>\n",
       "    <tr>\n",
       "      <th>4</th>\n",
       "      <td>1d4d62ac5cabcb48bac7112813f290cb</td>\n",
       "      <td>0</td>\n",
       "    </tr>\n",
       "  </tbody>\n",
       "</table>\n",
       "</div>"
      ],
      "text/plain": [
       "                                _id  target\n",
       "0  66810d8e6bf2b41c880a7bc6c8a1e295       0\n",
       "1  ccac3879652b08cb8b44c1920fd93afa       0\n",
       "2  fcccab4d7a76f70647f015f2c84c2af8       0\n",
       "3  ed8399278c30678dab739045fa12b440       0\n",
       "4  1d4d62ac5cabcb48bac7112813f290cb       0"
      ]
     },
     "execution_count": 3,
     "metadata": {},
     "output_type": "execute_result"
    }
   ],
   "source": [
    "df_sample.head()"
   ]
  },
  {
   "cell_type": "code",
   "execution_count": 4,
   "metadata": {},
   "outputs": [],
   "source": [
    "df_test = pd.read_csv('test.csv', sep=',', encoding='utf8')"
   ]
  },
  {
   "cell_type": "code",
   "execution_count": 5,
   "metadata": {},
   "outputs": [
    {
     "data": {
      "text/html": [
       "<div>\n",
       "<style scoped>\n",
       "    .dataframe tbody tr th:only-of-type {\n",
       "        vertical-align: middle;\n",
       "    }\n",
       "\n",
       "    .dataframe tbody tr th {\n",
       "        vertical-align: top;\n",
       "    }\n",
       "\n",
       "    .dataframe thead th {\n",
       "        text-align: right;\n",
       "    }\n",
       "</style>\n",
       "<table border=\"1\" class=\"dataframe\">\n",
       "  <thead>\n",
       "    <tr style=\"text-align: right;\">\n",
       "      <th></th>\n",
       "      <th>_id</th>\n",
       "      <th>age</th>\n",
       "      <th>job</th>\n",
       "      <th>marital</th>\n",
       "      <th>education</th>\n",
       "      <th>default</th>\n",
       "      <th>housing</th>\n",
       "      <th>loan</th>\n",
       "      <th>contact</th>\n",
       "      <th>month</th>\n",
       "      <th>...</th>\n",
       "      <th>duration</th>\n",
       "      <th>campaign</th>\n",
       "      <th>pdays</th>\n",
       "      <th>previous</th>\n",
       "      <th>poutcome</th>\n",
       "      <th>emp.var.rate</th>\n",
       "      <th>cons.price.idx</th>\n",
       "      <th>cons.conf.idx</th>\n",
       "      <th>euribor3m</th>\n",
       "      <th>nr.employed</th>\n",
       "    </tr>\n",
       "  </thead>\n",
       "  <tbody>\n",
       "    <tr>\n",
       "      <th>0</th>\n",
       "      <td>66810d8e6bf2b41c880a7bc6c8a1e295</td>\n",
       "      <td>57</td>\n",
       "      <td>technician</td>\n",
       "      <td>married</td>\n",
       "      <td>high.school</td>\n",
       "      <td>no</td>\n",
       "      <td>no</td>\n",
       "      <td>yes</td>\n",
       "      <td>cellular</td>\n",
       "      <td>may</td>\n",
       "      <td>...</td>\n",
       "      <td>371</td>\n",
       "      <td>1</td>\n",
       "      <td>999</td>\n",
       "      <td>1</td>\n",
       "      <td>failure</td>\n",
       "      <td>-1.8</td>\n",
       "      <td>92.893</td>\n",
       "      <td>-46.2</td>\n",
       "      <td>1.299</td>\n",
       "      <td>5099.1</td>\n",
       "    </tr>\n",
       "    <tr>\n",
       "      <th>1</th>\n",
       "      <td>ccac3879652b08cb8b44c1920fd93afa</td>\n",
       "      <td>55</td>\n",
       "      <td>unknown</td>\n",
       "      <td>married</td>\n",
       "      <td>unknown</td>\n",
       "      <td>unknown</td>\n",
       "      <td>yes</td>\n",
       "      <td>no</td>\n",
       "      <td>telephone</td>\n",
       "      <td>may</td>\n",
       "      <td>...</td>\n",
       "      <td>285</td>\n",
       "      <td>2</td>\n",
       "      <td>999</td>\n",
       "      <td>0</td>\n",
       "      <td>nonexistent</td>\n",
       "      <td>1.1</td>\n",
       "      <td>93.994</td>\n",
       "      <td>-36.4</td>\n",
       "      <td>4.860</td>\n",
       "      <td>5191.0</td>\n",
       "    </tr>\n",
       "    <tr>\n",
       "      <th>2</th>\n",
       "      <td>fcccab4d7a76f70647f015f2c84c2af8</td>\n",
       "      <td>33</td>\n",
       "      <td>blue-collar</td>\n",
       "      <td>married</td>\n",
       "      <td>basic.9y</td>\n",
       "      <td>no</td>\n",
       "      <td>no</td>\n",
       "      <td>no</td>\n",
       "      <td>cellular</td>\n",
       "      <td>may</td>\n",
       "      <td>...</td>\n",
       "      <td>52</td>\n",
       "      <td>1</td>\n",
       "      <td>999</td>\n",
       "      <td>1</td>\n",
       "      <td>failure</td>\n",
       "      <td>-1.8</td>\n",
       "      <td>92.893</td>\n",
       "      <td>-46.2</td>\n",
       "      <td>1.313</td>\n",
       "      <td>5099.1</td>\n",
       "    </tr>\n",
       "    <tr>\n",
       "      <th>3</th>\n",
       "      <td>ed8399278c30678dab739045fa12b440</td>\n",
       "      <td>36</td>\n",
       "      <td>admin.</td>\n",
       "      <td>married</td>\n",
       "      <td>high.school</td>\n",
       "      <td>no</td>\n",
       "      <td>no</td>\n",
       "      <td>no</td>\n",
       "      <td>telephone</td>\n",
       "      <td>jun</td>\n",
       "      <td>...</td>\n",
       "      <td>355</td>\n",
       "      <td>4</td>\n",
       "      <td>999</td>\n",
       "      <td>0</td>\n",
       "      <td>nonexistent</td>\n",
       "      <td>1.4</td>\n",
       "      <td>94.465</td>\n",
       "      <td>-41.8</td>\n",
       "      <td>4.967</td>\n",
       "      <td>5228.1</td>\n",
       "    </tr>\n",
       "    <tr>\n",
       "      <th>4</th>\n",
       "      <td>1d4d62ac5cabcb48bac7112813f290cb</td>\n",
       "      <td>27</td>\n",
       "      <td>housemaid</td>\n",
       "      <td>married</td>\n",
       "      <td>high.school</td>\n",
       "      <td>no</td>\n",
       "      <td>yes</td>\n",
       "      <td>no</td>\n",
       "      <td>cellular</td>\n",
       "      <td>jul</td>\n",
       "      <td>...</td>\n",
       "      <td>189</td>\n",
       "      <td>2</td>\n",
       "      <td>999</td>\n",
       "      <td>0</td>\n",
       "      <td>nonexistent</td>\n",
       "      <td>1.4</td>\n",
       "      <td>93.918</td>\n",
       "      <td>-42.7</td>\n",
       "      <td>4.963</td>\n",
       "      <td>5228.1</td>\n",
       "    </tr>\n",
       "  </tbody>\n",
       "</table>\n",
       "<p>5 rows × 21 columns</p>\n",
       "</div>"
      ],
      "text/plain": [
       "                                _id  age          job  marital    education  \\\n",
       "0  66810d8e6bf2b41c880a7bc6c8a1e295   57   technician  married  high.school   \n",
       "1  ccac3879652b08cb8b44c1920fd93afa   55      unknown  married      unknown   \n",
       "2  fcccab4d7a76f70647f015f2c84c2af8   33  blue-collar  married     basic.9y   \n",
       "3  ed8399278c30678dab739045fa12b440   36       admin.  married  high.school   \n",
       "4  1d4d62ac5cabcb48bac7112813f290cb   27    housemaid  married  high.school   \n",
       "\n",
       "   default housing loan    contact month     ...      duration  campaign  \\\n",
       "0       no      no  yes   cellular   may     ...           371         1   \n",
       "1  unknown     yes   no  telephone   may     ...           285         2   \n",
       "2       no      no   no   cellular   may     ...            52         1   \n",
       "3       no      no   no  telephone   jun     ...           355         4   \n",
       "4       no     yes   no   cellular   jul     ...           189         2   \n",
       "\n",
       "   pdays  previous     poutcome emp.var.rate  cons.price.idx  cons.conf.idx  \\\n",
       "0    999         1      failure         -1.8          92.893          -46.2   \n",
       "1    999         0  nonexistent          1.1          93.994          -36.4   \n",
       "2    999         1      failure         -1.8          92.893          -46.2   \n",
       "3    999         0  nonexistent          1.4          94.465          -41.8   \n",
       "4    999         0  nonexistent          1.4          93.918          -42.7   \n",
       "\n",
       "   euribor3m  nr.employed  \n",
       "0      1.299       5099.1  \n",
       "1      4.860       5191.0  \n",
       "2      1.313       5099.1  \n",
       "3      4.967       5228.1  \n",
       "4      4.963       5228.1  \n",
       "\n",
       "[5 rows x 21 columns]"
      ]
     },
     "execution_count": 5,
     "metadata": {},
     "output_type": "execute_result"
    }
   ],
   "source": [
    "df_test.head()"
   ]
  },
  {
   "cell_type": "code",
   "execution_count": 6,
   "metadata": {},
   "outputs": [
    {
     "name": "stdout",
     "output_type": "stream",
     "text": [
      "<class 'pandas.core.frame.DataFrame'>\n",
      "RangeIndex: 16476 entries, 0 to 16475\n",
      "Data columns (total 21 columns):\n",
      "_id               16476 non-null object\n",
      "age               16476 non-null int64\n",
      "job               16476 non-null object\n",
      "marital           16476 non-null object\n",
      "education         16476 non-null object\n",
      "default           16476 non-null object\n",
      "housing           16476 non-null object\n",
      "loan              16476 non-null object\n",
      "contact           16476 non-null object\n",
      "month             16476 non-null object\n",
      "day_of_week       16476 non-null object\n",
      "duration          16476 non-null int64\n",
      "campaign          16476 non-null int64\n",
      "pdays             16476 non-null int64\n",
      "previous          16476 non-null int64\n",
      "poutcome          16476 non-null object\n",
      "emp.var.rate      16476 non-null float64\n",
      "cons.price.idx    16476 non-null float64\n",
      "cons.conf.idx     16476 non-null float64\n",
      "euribor3m         16476 non-null float64\n",
      "nr.employed       16476 non-null float64\n",
      "dtypes: float64(5), int64(5), object(11)\n",
      "memory usage: 2.6+ MB\n"
     ]
    }
   ],
   "source": [
    "df_test.info()"
   ]
  },
  {
   "cell_type": "code",
   "execution_count": 7,
   "metadata": {},
   "outputs": [],
   "source": [
    "df_train = pd.read_csv('train.csv', sep=',', encoding='utf8')"
   ]
  },
  {
   "cell_type": "code",
   "execution_count": 8,
   "metadata": {},
   "outputs": [
    {
     "data": {
      "text/html": [
       "<div>\n",
       "<style scoped>\n",
       "    .dataframe tbody tr th:only-of-type {\n",
       "        vertical-align: middle;\n",
       "    }\n",
       "\n",
       "    .dataframe tbody tr th {\n",
       "        vertical-align: top;\n",
       "    }\n",
       "\n",
       "    .dataframe thead th {\n",
       "        text-align: right;\n",
       "    }\n",
       "</style>\n",
       "<table border=\"1\" class=\"dataframe\">\n",
       "  <thead>\n",
       "    <tr style=\"text-align: right;\">\n",
       "      <th></th>\n",
       "      <th>_id</th>\n",
       "      <th>age</th>\n",
       "      <th>job</th>\n",
       "      <th>marital</th>\n",
       "      <th>education</th>\n",
       "      <th>default</th>\n",
       "      <th>housing</th>\n",
       "      <th>loan</th>\n",
       "      <th>contact</th>\n",
       "      <th>month</th>\n",
       "      <th>...</th>\n",
       "      <th>campaign</th>\n",
       "      <th>pdays</th>\n",
       "      <th>previous</th>\n",
       "      <th>poutcome</th>\n",
       "      <th>emp.var.rate</th>\n",
       "      <th>cons.price.idx</th>\n",
       "      <th>cons.conf.idx</th>\n",
       "      <th>euribor3m</th>\n",
       "      <th>nr.employed</th>\n",
       "      <th>target</th>\n",
       "    </tr>\n",
       "  </thead>\n",
       "  <tbody>\n",
       "    <tr>\n",
       "      <th>0</th>\n",
       "      <td>df7489733b004bbe40d3d37b34f82419</td>\n",
       "      <td>54</td>\n",
       "      <td>technician</td>\n",
       "      <td>married</td>\n",
       "      <td>professional.course</td>\n",
       "      <td>unknown</td>\n",
       "      <td>no</td>\n",
       "      <td>no</td>\n",
       "      <td>cellular</td>\n",
       "      <td>aug</td>\n",
       "      <td>...</td>\n",
       "      <td>1</td>\n",
       "      <td>999</td>\n",
       "      <td>0</td>\n",
       "      <td>nonexistent</td>\n",
       "      <td>1.4</td>\n",
       "      <td>93.444</td>\n",
       "      <td>-36.1</td>\n",
       "      <td>4.963</td>\n",
       "      <td>5228.1</td>\n",
       "      <td>0</td>\n",
       "    </tr>\n",
       "    <tr>\n",
       "      <th>1</th>\n",
       "      <td>905a0b9a5456ee962223033473666be3</td>\n",
       "      <td>36</td>\n",
       "      <td>services</td>\n",
       "      <td>single</td>\n",
       "      <td>basic.4y</td>\n",
       "      <td>no</td>\n",
       "      <td>no</td>\n",
       "      <td>no</td>\n",
       "      <td>telephone</td>\n",
       "      <td>may</td>\n",
       "      <td>...</td>\n",
       "      <td>1</td>\n",
       "      <td>999</td>\n",
       "      <td>0</td>\n",
       "      <td>nonexistent</td>\n",
       "      <td>1.1</td>\n",
       "      <td>93.994</td>\n",
       "      <td>-36.4</td>\n",
       "      <td>4.857</td>\n",
       "      <td>5191.0</td>\n",
       "      <td>0</td>\n",
       "    </tr>\n",
       "    <tr>\n",
       "      <th>2</th>\n",
       "      <td>02d69c07ec6d68e31d641edd45ce61cd</td>\n",
       "      <td>53</td>\n",
       "      <td>blue-collar</td>\n",
       "      <td>married</td>\n",
       "      <td>basic.4y</td>\n",
       "      <td>no</td>\n",
       "      <td>yes</td>\n",
       "      <td>no</td>\n",
       "      <td>cellular</td>\n",
       "      <td>aug</td>\n",
       "      <td>...</td>\n",
       "      <td>1</td>\n",
       "      <td>999</td>\n",
       "      <td>0</td>\n",
       "      <td>nonexistent</td>\n",
       "      <td>1.4</td>\n",
       "      <td>93.444</td>\n",
       "      <td>-36.1</td>\n",
       "      <td>4.965</td>\n",
       "      <td>5228.1</td>\n",
       "      <td>0</td>\n",
       "    </tr>\n",
       "    <tr>\n",
       "      <th>3</th>\n",
       "      <td>e492fbe0cccaf67cdb5c0944dbc8a167</td>\n",
       "      <td>34</td>\n",
       "      <td>blue-collar</td>\n",
       "      <td>married</td>\n",
       "      <td>basic.9y</td>\n",
       "      <td>no</td>\n",
       "      <td>yes</td>\n",
       "      <td>yes</td>\n",
       "      <td>telephone</td>\n",
       "      <td>may</td>\n",
       "      <td>...</td>\n",
       "      <td>2</td>\n",
       "      <td>999</td>\n",
       "      <td>0</td>\n",
       "      <td>nonexistent</td>\n",
       "      <td>1.1</td>\n",
       "      <td>93.994</td>\n",
       "      <td>-36.4</td>\n",
       "      <td>4.857</td>\n",
       "      <td>5191.0</td>\n",
       "      <td>0</td>\n",
       "    </tr>\n",
       "    <tr>\n",
       "      <th>4</th>\n",
       "      <td>ac2dc6f5835bdea8e71dd99b65208d07</td>\n",
       "      <td>29</td>\n",
       "      <td>services</td>\n",
       "      <td>single</td>\n",
       "      <td>university.degree</td>\n",
       "      <td>no</td>\n",
       "      <td>yes</td>\n",
       "      <td>no</td>\n",
       "      <td>telephone</td>\n",
       "      <td>aug</td>\n",
       "      <td>...</td>\n",
       "      <td>1</td>\n",
       "      <td>999</td>\n",
       "      <td>0</td>\n",
       "      <td>nonexistent</td>\n",
       "      <td>-1.7</td>\n",
       "      <td>94.027</td>\n",
       "      <td>-38.3</td>\n",
       "      <td>0.890</td>\n",
       "      <td>4991.6</td>\n",
       "      <td>0</td>\n",
       "    </tr>\n",
       "  </tbody>\n",
       "</table>\n",
       "<p>5 rows × 22 columns</p>\n",
       "</div>"
      ],
      "text/plain": [
       "                                _id  age          job  marital  \\\n",
       "0  df7489733b004bbe40d3d37b34f82419   54   technician  married   \n",
       "1  905a0b9a5456ee962223033473666be3   36     services   single   \n",
       "2  02d69c07ec6d68e31d641edd45ce61cd   53  blue-collar  married   \n",
       "3  e492fbe0cccaf67cdb5c0944dbc8a167   34  blue-collar  married   \n",
       "4  ac2dc6f5835bdea8e71dd99b65208d07   29     services   single   \n",
       "\n",
       "             education  default housing loan    contact month   ...    \\\n",
       "0  professional.course  unknown      no   no   cellular   aug   ...     \n",
       "1             basic.4y       no      no   no  telephone   may   ...     \n",
       "2             basic.4y       no     yes   no   cellular   aug   ...     \n",
       "3             basic.9y       no     yes  yes  telephone   may   ...     \n",
       "4    university.degree       no     yes   no  telephone   aug   ...     \n",
       "\n",
       "  campaign  pdays  previous     poutcome  emp.var.rate cons.price.idx  \\\n",
       "0        1    999         0  nonexistent           1.4         93.444   \n",
       "1        1    999         0  nonexistent           1.1         93.994   \n",
       "2        1    999         0  nonexistent           1.4         93.444   \n",
       "3        2    999         0  nonexistent           1.1         93.994   \n",
       "4        1    999         0  nonexistent          -1.7         94.027   \n",
       "\n",
       "   cons.conf.idx  euribor3m  nr.employed  target  \n",
       "0          -36.1      4.963       5228.1       0  \n",
       "1          -36.4      4.857       5191.0       0  \n",
       "2          -36.1      4.965       5228.1       0  \n",
       "3          -36.4      4.857       5191.0       0  \n",
       "4          -38.3      0.890       4991.6       0  \n",
       "\n",
       "[5 rows x 22 columns]"
      ]
     },
     "execution_count": 8,
     "metadata": {},
     "output_type": "execute_result"
    }
   ],
   "source": [
    "df_train.head()"
   ]
  },
  {
   "cell_type": "code",
   "execution_count": 9,
   "metadata": {},
   "outputs": [
    {
     "data": {
      "text/plain": [
       "(24712, 22)"
      ]
     },
     "execution_count": 9,
     "metadata": {},
     "output_type": "execute_result"
    }
   ],
   "source": [
    "df_train.shape"
   ]
  },
  {
   "cell_type": "code",
   "execution_count": 10,
   "metadata": {},
   "outputs": [
    {
     "name": "stdout",
     "output_type": "stream",
     "text": [
      "<class 'pandas.core.frame.DataFrame'>\n",
      "RangeIndex: 24712 entries, 0 to 24711\n",
      "Data columns (total 22 columns):\n",
      "_id               24712 non-null object\n",
      "age               24712 non-null int64\n",
      "job               24712 non-null object\n",
      "marital           24712 non-null object\n",
      "education         24712 non-null object\n",
      "default           24712 non-null object\n",
      "housing           24712 non-null object\n",
      "loan              24712 non-null object\n",
      "contact           24712 non-null object\n",
      "month             24712 non-null object\n",
      "day_of_week       24712 non-null object\n",
      "duration          24712 non-null int64\n",
      "campaign          24712 non-null int64\n",
      "pdays             24712 non-null int64\n",
      "previous          24712 non-null int64\n",
      "poutcome          24712 non-null object\n",
      "emp.var.rate      24712 non-null float64\n",
      "cons.price.idx    24712 non-null float64\n",
      "cons.conf.idx     24712 non-null float64\n",
      "euribor3m         24712 non-null float64\n",
      "nr.employed       24712 non-null float64\n",
      "target            24712 non-null int64\n",
      "dtypes: float64(5), int64(6), object(11)\n",
      "memory usage: 4.1+ MB\n"
     ]
    }
   ],
   "source": [
    "df_train.info()"
   ]
  },
  {
   "cell_type": "code",
   "execution_count": 11,
   "metadata": {},
   "outputs": [],
   "source": [
    "y_target_id = df_train.loc[:,['_id','target']]"
   ]
  },
  {
   "cell_type": "code",
   "execution_count": 12,
   "metadata": {},
   "outputs": [
    {
     "data": {
      "text/html": [
       "<div>\n",
       "<style scoped>\n",
       "    .dataframe tbody tr th:only-of-type {\n",
       "        vertical-align: middle;\n",
       "    }\n",
       "\n",
       "    .dataframe tbody tr th {\n",
       "        vertical-align: top;\n",
       "    }\n",
       "\n",
       "    .dataframe thead th {\n",
       "        text-align: right;\n",
       "    }\n",
       "</style>\n",
       "<table border=\"1\" class=\"dataframe\">\n",
       "  <thead>\n",
       "    <tr style=\"text-align: right;\">\n",
       "      <th></th>\n",
       "      <th>_id</th>\n",
       "      <th>target</th>\n",
       "    </tr>\n",
       "  </thead>\n",
       "  <tbody>\n",
       "    <tr>\n",
       "      <th>0</th>\n",
       "      <td>df7489733b004bbe40d3d37b34f82419</td>\n",
       "      <td>0</td>\n",
       "    </tr>\n",
       "    <tr>\n",
       "      <th>1</th>\n",
       "      <td>905a0b9a5456ee962223033473666be3</td>\n",
       "      <td>0</td>\n",
       "    </tr>\n",
       "    <tr>\n",
       "      <th>2</th>\n",
       "      <td>02d69c07ec6d68e31d641edd45ce61cd</td>\n",
       "      <td>0</td>\n",
       "    </tr>\n",
       "    <tr>\n",
       "      <th>3</th>\n",
       "      <td>e492fbe0cccaf67cdb5c0944dbc8a167</td>\n",
       "      <td>0</td>\n",
       "    </tr>\n",
       "    <tr>\n",
       "      <th>4</th>\n",
       "      <td>ac2dc6f5835bdea8e71dd99b65208d07</td>\n",
       "      <td>0</td>\n",
       "    </tr>\n",
       "  </tbody>\n",
       "</table>\n",
       "</div>"
      ],
      "text/plain": [
       "                                _id  target\n",
       "0  df7489733b004bbe40d3d37b34f82419       0\n",
       "1  905a0b9a5456ee962223033473666be3       0\n",
       "2  02d69c07ec6d68e31d641edd45ce61cd       0\n",
       "3  e492fbe0cccaf67cdb5c0944dbc8a167       0\n",
       "4  ac2dc6f5835bdea8e71dd99b65208d07       0"
      ]
     },
     "execution_count": 12,
     "metadata": {},
     "output_type": "execute_result"
    }
   ],
   "source": [
    "y_target_id.head()"
   ]
  },
  {
   "cell_type": "code",
   "execution_count": 13,
   "metadata": {},
   "outputs": [],
   "source": [
    "y_target = df_train.iloc[:, -1].values"
   ]
  },
  {
   "cell_type": "code",
   "execution_count": 14,
   "metadata": {},
   "outputs": [
    {
     "data": {
      "text/plain": [
       "array([0, 0, 0, 0, 0, 0, 0, 0, 1, 0, 0, 0, 0, 0, 0, 0, 0, 0, 0, 0, 0, 0,\n",
       "       0, 0, 0, 0, 0, 0, 0, 0, 0, 0, 0, 0, 0, 0, 1, 0, 0, 0], dtype=int64)"
      ]
     },
     "execution_count": 14,
     "metadata": {},
     "output_type": "execute_result"
    }
   ],
   "source": [
    "y_target[:40]"
   ]
  },
  {
   "cell_type": "code",
   "execution_count": 15,
   "metadata": {},
   "outputs": [],
   "source": [
    "df_train = df_train.drop(['_id','target'], axis=1).copy()"
   ]
  },
  {
   "cell_type": "code",
   "execution_count": 16,
   "metadata": {},
   "outputs": [
    {
     "data": {
      "text/plain": [
       "['job',\n",
       " 'marital',\n",
       " 'education',\n",
       " 'default',\n",
       " 'housing',\n",
       " 'loan',\n",
       " 'contact',\n",
       " 'month',\n",
       " 'day_of_week',\n",
       " 'poutcome']"
      ]
     },
     "execution_count": 16,
     "metadata": {},
     "output_type": "execute_result"
    }
   ],
   "source": [
    "cat_cols = []\n",
    "for col in df_train.columns: # перебираем все столбцы\n",
    "    if (str(df_train[col].dtype) == 'object'): # если тип столбца - object\n",
    "        cat_cols.append(col)\n",
    "cat_cols"
   ]
  },
  {
   "cell_type": "code",
   "execution_count": 17,
   "metadata": {},
   "outputs": [],
   "source": [
    "df_train = pd.get_dummies(df_train, columns=cat_cols)"
   ]
  },
  {
   "cell_type": "code",
   "execution_count": 18,
   "metadata": {},
   "outputs": [
    {
     "data": {
      "text/plain": [
       "(24712, 63)"
      ]
     },
     "execution_count": 18,
     "metadata": {},
     "output_type": "execute_result"
    }
   ],
   "source": [
    "df_train.shape"
   ]
  },
  {
   "cell_type": "code",
   "execution_count": 19,
   "metadata": {},
   "outputs": [
    {
     "name": "stdout",
     "output_type": "stream",
     "text": [
      "<class 'pandas.core.frame.DataFrame'>\n",
      "RangeIndex: 24712 entries, 0 to 24711\n",
      "Data columns (total 63 columns):\n",
      "age                              24712 non-null int64\n",
      "duration                         24712 non-null int64\n",
      "campaign                         24712 non-null int64\n",
      "pdays                            24712 non-null int64\n",
      "previous                         24712 non-null int64\n",
      "emp.var.rate                     24712 non-null float64\n",
      "cons.price.idx                   24712 non-null float64\n",
      "cons.conf.idx                    24712 non-null float64\n",
      "euribor3m                        24712 non-null float64\n",
      "nr.employed                      24712 non-null float64\n",
      "job_admin.                       24712 non-null uint8\n",
      "job_blue-collar                  24712 non-null uint8\n",
      "job_entrepreneur                 24712 non-null uint8\n",
      "job_housemaid                    24712 non-null uint8\n",
      "job_management                   24712 non-null uint8\n",
      "job_retired                      24712 non-null uint8\n",
      "job_self-employed                24712 non-null uint8\n",
      "job_services                     24712 non-null uint8\n",
      "job_student                      24712 non-null uint8\n",
      "job_technician                   24712 non-null uint8\n",
      "job_unemployed                   24712 non-null uint8\n",
      "job_unknown                      24712 non-null uint8\n",
      "marital_divorced                 24712 non-null uint8\n",
      "marital_married                  24712 non-null uint8\n",
      "marital_single                   24712 non-null uint8\n",
      "marital_unknown                  24712 non-null uint8\n",
      "education_basic.4y               24712 non-null uint8\n",
      "education_basic.6y               24712 non-null uint8\n",
      "education_basic.9y               24712 non-null uint8\n",
      "education_high.school            24712 non-null uint8\n",
      "education_illiterate             24712 non-null uint8\n",
      "education_professional.course    24712 non-null uint8\n",
      "education_university.degree      24712 non-null uint8\n",
      "education_unknown                24712 non-null uint8\n",
      "default_no                       24712 non-null uint8\n",
      "default_unknown                  24712 non-null uint8\n",
      "default_yes                      24712 non-null uint8\n",
      "housing_no                       24712 non-null uint8\n",
      "housing_unknown                  24712 non-null uint8\n",
      "housing_yes                      24712 non-null uint8\n",
      "loan_no                          24712 non-null uint8\n",
      "loan_unknown                     24712 non-null uint8\n",
      "loan_yes                         24712 non-null uint8\n",
      "contact_cellular                 24712 non-null uint8\n",
      "contact_telephone                24712 non-null uint8\n",
      "month_apr                        24712 non-null uint8\n",
      "month_aug                        24712 non-null uint8\n",
      "month_dec                        24712 non-null uint8\n",
      "month_jul                        24712 non-null uint8\n",
      "month_jun                        24712 non-null uint8\n",
      "month_mar                        24712 non-null uint8\n",
      "month_may                        24712 non-null uint8\n",
      "month_nov                        24712 non-null uint8\n",
      "month_oct                        24712 non-null uint8\n",
      "month_sep                        24712 non-null uint8\n",
      "day_of_week_fri                  24712 non-null uint8\n",
      "day_of_week_mon                  24712 non-null uint8\n",
      "day_of_week_thu                  24712 non-null uint8\n",
      "day_of_week_tue                  24712 non-null uint8\n",
      "day_of_week_wed                  24712 non-null uint8\n",
      "poutcome_failure                 24712 non-null uint8\n",
      "poutcome_nonexistent             24712 non-null uint8\n",
      "poutcome_success                 24712 non-null uint8\n",
      "dtypes: float64(5), int64(5), uint8(53)\n",
      "memory usage: 3.1 MB\n"
     ]
    }
   ],
   "source": [
    "df_train.info()"
   ]
  },
  {
   "cell_type": "code",
   "execution_count": 20,
   "metadata": {},
   "outputs": [],
   "source": [
    "df_y_target = pd.DataFrame(y_target_id['target'], columns=['target'], copy=True)"
   ]
  },
  {
   "cell_type": "code",
   "execution_count": 21,
   "metadata": {},
   "outputs": [
    {
     "data": {
      "text/html": [
       "<div>\n",
       "<style scoped>\n",
       "    .dataframe tbody tr th:only-of-type {\n",
       "        vertical-align: middle;\n",
       "    }\n",
       "\n",
       "    .dataframe tbody tr th {\n",
       "        vertical-align: top;\n",
       "    }\n",
       "\n",
       "    .dataframe thead th {\n",
       "        text-align: right;\n",
       "    }\n",
       "</style>\n",
       "<table border=\"1\" class=\"dataframe\">\n",
       "  <thead>\n",
       "    <tr style=\"text-align: right;\">\n",
       "      <th></th>\n",
       "      <th>target</th>\n",
       "    </tr>\n",
       "  </thead>\n",
       "  <tbody>\n",
       "    <tr>\n",
       "      <th>0</th>\n",
       "      <td>0</td>\n",
       "    </tr>\n",
       "    <tr>\n",
       "      <th>1</th>\n",
       "      <td>0</td>\n",
       "    </tr>\n",
       "    <tr>\n",
       "      <th>2</th>\n",
       "      <td>0</td>\n",
       "    </tr>\n",
       "    <tr>\n",
       "      <th>3</th>\n",
       "      <td>0</td>\n",
       "    </tr>\n",
       "    <tr>\n",
       "      <th>4</th>\n",
       "      <td>0</td>\n",
       "    </tr>\n",
       "    <tr>\n",
       "      <th>5</th>\n",
       "      <td>0</td>\n",
       "    </tr>\n",
       "    <tr>\n",
       "      <th>6</th>\n",
       "      <td>0</td>\n",
       "    </tr>\n",
       "    <tr>\n",
       "      <th>7</th>\n",
       "      <td>0</td>\n",
       "    </tr>\n",
       "    <tr>\n",
       "      <th>8</th>\n",
       "      <td>1</td>\n",
       "    </tr>\n",
       "    <tr>\n",
       "      <th>9</th>\n",
       "      <td>0</td>\n",
       "    </tr>\n",
       "  </tbody>\n",
       "</table>\n",
       "</div>"
      ],
      "text/plain": [
       "   target\n",
       "0       0\n",
       "1       0\n",
       "2       0\n",
       "3       0\n",
       "4       0\n",
       "5       0\n",
       "6       0\n",
       "7       0\n",
       "8       1\n",
       "9       0"
      ]
     },
     "execution_count": 21,
     "metadata": {},
     "output_type": "execute_result"
    }
   ],
   "source": [
    "df_y_target.head(10)"
   ]
  },
  {
   "cell_type": "code",
   "execution_count": 22,
   "metadata": {},
   "outputs": [],
   "source": [
    "from sklearn.preprocessing import StandardScaler\n",
    "from sklearn.pipeline import Pipeline\n",
    "from sklearn.neighbors import KNeighborsClassifier\n",
    "from sklearn.model_selection import train_test_split"
   ]
  },
  {
   "cell_type": "code",
   "execution_count": 23,
   "metadata": {},
   "outputs": [],
   "source": [
    "X_train, X_test, y_train, y_test = train_test_split(df_train, y_target, test_size = 0.3, random_state = 123)"
   ]
  },
  {
   "cell_type": "code",
   "execution_count": 24,
   "metadata": {},
   "outputs": [],
   "source": [
    "model = Pipeline([\n",
    "    ('scaler', StandardScaler()),\n",
    "    ('knn', KNeighborsClassifier(n_neighbors=50))\n",
    "])"
   ]
  },
  {
   "cell_type": "code",
   "execution_count": 25,
   "metadata": {},
   "outputs": [
    {
     "data": {
      "text/plain": [
       "Pipeline(memory=None,\n",
       "     steps=[('scaler', StandardScaler(copy=True, with_mean=True, with_std=True)), ('knn', KNeighborsClassifier(algorithm='auto', leaf_size=30, metric='minkowski',\n",
       "           metric_params=None, n_jobs=1, n_neighbors=50, p=2,\n",
       "           weights='uniform'))])"
      ]
     },
     "execution_count": 25,
     "metadata": {},
     "output_type": "execute_result"
    }
   ],
   "source": [
    "model.fit(X_train, y_train)"
   ]
  },
  {
   "cell_type": "code",
   "execution_count": 26,
   "metadata": {},
   "outputs": [],
   "source": [
    "y_hat = model.predict(X_test)"
   ]
  },
  {
   "cell_type": "code",
   "execution_count": 27,
   "metadata": {},
   "outputs": [],
   "source": [
    "y_hat_proba = model.predict_proba(X_test, )"
   ]
  },
  {
   "cell_type": "code",
   "execution_count": 28,
   "metadata": {},
   "outputs": [
    {
     "data": {
      "text/plain": [
       "array([[1.  , 0.  ],\n",
       "       [0.96, 0.04],\n",
       "       [0.96, 0.04],\n",
       "       [0.96, 0.04],\n",
       "       [0.7 , 0.3 ],\n",
       "       [0.96, 0.04],\n",
       "       [0.96, 0.04],\n",
       "       [0.98, 0.02],\n",
       "       [0.42, 0.58],\n",
       "       [0.98, 0.02],\n",
       "       [0.52, 0.48],\n",
       "       [0.98, 0.02],\n",
       "       [0.96, 0.04],\n",
       "       [0.98, 0.02],\n",
       "       [0.96, 0.04],\n",
       "       [0.96, 0.04],\n",
       "       [0.54, 0.46],\n",
       "       [0.9 , 0.1 ],\n",
       "       [0.98, 0.02],\n",
       "       [0.92, 0.08]])"
      ]
     },
     "execution_count": 28,
     "metadata": {},
     "output_type": "execute_result"
    }
   ],
   "source": [
    "y_hat_proba[:20]"
   ]
  },
  {
   "cell_type": "code",
   "execution_count": 29,
   "metadata": {},
   "outputs": [
    {
     "data": {
      "text/plain": [
       "(7414, 2)"
      ]
     },
     "execution_count": 29,
     "metadata": {},
     "output_type": "execute_result"
    }
   ],
   "source": [
    "y_hat_proba.shape"
   ]
  },
  {
   "cell_type": "code",
   "execution_count": 30,
   "metadata": {},
   "outputs": [],
   "source": [
    "from sklearn.metrics import roc_auc_score"
   ]
  },
  {
   "cell_type": "code",
   "execution_count": 31,
   "metadata": {},
   "outputs": [
    {
     "data": {
      "text/plain": [
       "0.8773530647427819"
      ]
     },
     "execution_count": 31,
     "metadata": {},
     "output_type": "execute_result"
    }
   ],
   "source": [
    "roc_auc_score(y_test, y_hat_proba[:, 1])"
   ]
  },
  {
   "cell_type": "code",
   "execution_count": 32,
   "metadata": {},
   "outputs": [
    {
     "data": {
      "text/plain": [
       "array([0, 0, 0, 0, 0, 0, 0, 0, 1, 0], dtype=int64)"
      ]
     },
     "execution_count": 32,
     "metadata": {},
     "output_type": "execute_result"
    }
   ],
   "source": [
    "y_hat[:10]"
   ]
  },
  {
   "cell_type": "code",
   "execution_count": 33,
   "metadata": {},
   "outputs": [
    {
     "name": "stdout",
     "output_type": "stream",
     "text": [
      "<class 'pandas.core.frame.DataFrame'>\n",
      "RangeIndex: 16476 entries, 0 to 16475\n",
      "Data columns (total 21 columns):\n",
      "_id               16476 non-null object\n",
      "age               16476 non-null int64\n",
      "job               16476 non-null object\n",
      "marital           16476 non-null object\n",
      "education         16476 non-null object\n",
      "default           16476 non-null object\n",
      "housing           16476 non-null object\n",
      "loan              16476 non-null object\n",
      "contact           16476 non-null object\n",
      "month             16476 non-null object\n",
      "day_of_week       16476 non-null object\n",
      "duration          16476 non-null int64\n",
      "campaign          16476 non-null int64\n",
      "pdays             16476 non-null int64\n",
      "previous          16476 non-null int64\n",
      "poutcome          16476 non-null object\n",
      "emp.var.rate      16476 non-null float64\n",
      "cons.price.idx    16476 non-null float64\n",
      "cons.conf.idx     16476 non-null float64\n",
      "euribor3m         16476 non-null float64\n",
      "nr.employed       16476 non-null float64\n",
      "dtypes: float64(5), int64(5), object(11)\n",
      "memory usage: 2.6+ MB\n"
     ]
    }
   ],
   "source": [
    "df_test.info()"
   ]
  },
  {
   "cell_type": "code",
   "execution_count": 34,
   "metadata": {},
   "outputs": [],
   "source": [
    "df_y_test = df_test.loc[:,['_id']]"
   ]
  },
  {
   "cell_type": "code",
   "execution_count": 35,
   "metadata": {},
   "outputs": [
    {
     "data": {
      "text/html": [
       "<div>\n",
       "<style scoped>\n",
       "    .dataframe tbody tr th:only-of-type {\n",
       "        vertical-align: middle;\n",
       "    }\n",
       "\n",
       "    .dataframe tbody tr th {\n",
       "        vertical-align: top;\n",
       "    }\n",
       "\n",
       "    .dataframe thead th {\n",
       "        text-align: right;\n",
       "    }\n",
       "</style>\n",
       "<table border=\"1\" class=\"dataframe\">\n",
       "  <thead>\n",
       "    <tr style=\"text-align: right;\">\n",
       "      <th></th>\n",
       "      <th>_id</th>\n",
       "    </tr>\n",
       "  </thead>\n",
       "  <tbody>\n",
       "    <tr>\n",
       "      <th>0</th>\n",
       "      <td>66810d8e6bf2b41c880a7bc6c8a1e295</td>\n",
       "    </tr>\n",
       "    <tr>\n",
       "      <th>1</th>\n",
       "      <td>ccac3879652b08cb8b44c1920fd93afa</td>\n",
       "    </tr>\n",
       "    <tr>\n",
       "      <th>2</th>\n",
       "      <td>fcccab4d7a76f70647f015f2c84c2af8</td>\n",
       "    </tr>\n",
       "    <tr>\n",
       "      <th>3</th>\n",
       "      <td>ed8399278c30678dab739045fa12b440</td>\n",
       "    </tr>\n",
       "    <tr>\n",
       "      <th>4</th>\n",
       "      <td>1d4d62ac5cabcb48bac7112813f290cb</td>\n",
       "    </tr>\n",
       "  </tbody>\n",
       "</table>\n",
       "</div>"
      ],
      "text/plain": [
       "                                _id\n",
       "0  66810d8e6bf2b41c880a7bc6c8a1e295\n",
       "1  ccac3879652b08cb8b44c1920fd93afa\n",
       "2  fcccab4d7a76f70647f015f2c84c2af8\n",
       "3  ed8399278c30678dab739045fa12b440\n",
       "4  1d4d62ac5cabcb48bac7112813f290cb"
      ]
     },
     "execution_count": 35,
     "metadata": {},
     "output_type": "execute_result"
    }
   ],
   "source": [
    "df_y_test.head()"
   ]
  },
  {
   "cell_type": "code",
   "execution_count": 36,
   "metadata": {},
   "outputs": [],
   "source": [
    "df_test = df_test.drop(['_id'], axis=1).copy()"
   ]
  },
  {
   "cell_type": "code",
   "execution_count": 37,
   "metadata": {},
   "outputs": [
    {
     "name": "stdout",
     "output_type": "stream",
     "text": [
      "<class 'pandas.core.frame.DataFrame'>\n",
      "RangeIndex: 16476 entries, 0 to 16475\n",
      "Data columns (total 20 columns):\n",
      "age               16476 non-null int64\n",
      "job               16476 non-null object\n",
      "marital           16476 non-null object\n",
      "education         16476 non-null object\n",
      "default           16476 non-null object\n",
      "housing           16476 non-null object\n",
      "loan              16476 non-null object\n",
      "contact           16476 non-null object\n",
      "month             16476 non-null object\n",
      "day_of_week       16476 non-null object\n",
      "duration          16476 non-null int64\n",
      "campaign          16476 non-null int64\n",
      "pdays             16476 non-null int64\n",
      "previous          16476 non-null int64\n",
      "poutcome          16476 non-null object\n",
      "emp.var.rate      16476 non-null float64\n",
      "cons.price.idx    16476 non-null float64\n",
      "cons.conf.idx     16476 non-null float64\n",
      "euribor3m         16476 non-null float64\n",
      "nr.employed       16476 non-null float64\n",
      "dtypes: float64(5), int64(5), object(10)\n",
      "memory usage: 2.5+ MB\n"
     ]
    }
   ],
   "source": [
    "df_test.info()"
   ]
  },
  {
   "cell_type": "code",
   "execution_count": 38,
   "metadata": {},
   "outputs": [
    {
     "data": {
      "text/plain": [
       "['job',\n",
       " 'marital',\n",
       " 'education',\n",
       " 'default',\n",
       " 'housing',\n",
       " 'loan',\n",
       " 'contact',\n",
       " 'month',\n",
       " 'day_of_week',\n",
       " 'poutcome']"
      ]
     },
     "execution_count": 38,
     "metadata": {},
     "output_type": "execute_result"
    }
   ],
   "source": [
    "cat_cols = []\n",
    "for col in df_test.columns: # перебираем все столбцы\n",
    "    if (str(df_test[col].dtype) == 'object'): # если тип столбца - object\n",
    "        cat_cols.append(col)\n",
    "cat_cols"
   ]
  },
  {
   "cell_type": "code",
   "execution_count": 39,
   "metadata": {},
   "outputs": [],
   "source": [
    "df_test = pd.get_dummies(df_test, columns=cat_cols)"
   ]
  },
  {
   "cell_type": "code",
   "execution_count": 40,
   "metadata": {},
   "outputs": [
    {
     "name": "stdout",
     "output_type": "stream",
     "text": [
      "<class 'pandas.core.frame.DataFrame'>\n",
      "RangeIndex: 16476 entries, 0 to 16475\n",
      "Data columns (total 63 columns):\n",
      "age                              16476 non-null int64\n",
      "duration                         16476 non-null int64\n",
      "campaign                         16476 non-null int64\n",
      "pdays                            16476 non-null int64\n",
      "previous                         16476 non-null int64\n",
      "emp.var.rate                     16476 non-null float64\n",
      "cons.price.idx                   16476 non-null float64\n",
      "cons.conf.idx                    16476 non-null float64\n",
      "euribor3m                        16476 non-null float64\n",
      "nr.employed                      16476 non-null float64\n",
      "job_admin.                       16476 non-null uint8\n",
      "job_blue-collar                  16476 non-null uint8\n",
      "job_entrepreneur                 16476 non-null uint8\n",
      "job_housemaid                    16476 non-null uint8\n",
      "job_management                   16476 non-null uint8\n",
      "job_retired                      16476 non-null uint8\n",
      "job_self-employed                16476 non-null uint8\n",
      "job_services                     16476 non-null uint8\n",
      "job_student                      16476 non-null uint8\n",
      "job_technician                   16476 non-null uint8\n",
      "job_unemployed                   16476 non-null uint8\n",
      "job_unknown                      16476 non-null uint8\n",
      "marital_divorced                 16476 non-null uint8\n",
      "marital_married                  16476 non-null uint8\n",
      "marital_single                   16476 non-null uint8\n",
      "marital_unknown                  16476 non-null uint8\n",
      "education_basic.4y               16476 non-null uint8\n",
      "education_basic.6y               16476 non-null uint8\n",
      "education_basic.9y               16476 non-null uint8\n",
      "education_high.school            16476 non-null uint8\n",
      "education_illiterate             16476 non-null uint8\n",
      "education_professional.course    16476 non-null uint8\n",
      "education_university.degree      16476 non-null uint8\n",
      "education_unknown                16476 non-null uint8\n",
      "default_no                       16476 non-null uint8\n",
      "default_unknown                  16476 non-null uint8\n",
      "default_yes                      16476 non-null uint8\n",
      "housing_no                       16476 non-null uint8\n",
      "housing_unknown                  16476 non-null uint8\n",
      "housing_yes                      16476 non-null uint8\n",
      "loan_no                          16476 non-null uint8\n",
      "loan_unknown                     16476 non-null uint8\n",
      "loan_yes                         16476 non-null uint8\n",
      "contact_cellular                 16476 non-null uint8\n",
      "contact_telephone                16476 non-null uint8\n",
      "month_apr                        16476 non-null uint8\n",
      "month_aug                        16476 non-null uint8\n",
      "month_dec                        16476 non-null uint8\n",
      "month_jul                        16476 non-null uint8\n",
      "month_jun                        16476 non-null uint8\n",
      "month_mar                        16476 non-null uint8\n",
      "month_may                        16476 non-null uint8\n",
      "month_nov                        16476 non-null uint8\n",
      "month_oct                        16476 non-null uint8\n",
      "month_sep                        16476 non-null uint8\n",
      "day_of_week_fri                  16476 non-null uint8\n",
      "day_of_week_mon                  16476 non-null uint8\n",
      "day_of_week_thu                  16476 non-null uint8\n",
      "day_of_week_tue                  16476 non-null uint8\n",
      "day_of_week_wed                  16476 non-null uint8\n",
      "poutcome_failure                 16476 non-null uint8\n",
      "poutcome_nonexistent             16476 non-null uint8\n",
      "poutcome_success                 16476 non-null uint8\n",
      "dtypes: float64(5), int64(5), uint8(53)\n",
      "memory usage: 2.1 MB\n"
     ]
    }
   ],
   "source": [
    "df_test.info()"
   ]
  },
  {
   "cell_type": "code",
   "execution_count": 41,
   "metadata": {},
   "outputs": [],
   "source": [
    "y_hat2 = model.predict(df_test)"
   ]
  },
  {
   "cell_type": "code",
   "execution_count": 42,
   "metadata": {},
   "outputs": [],
   "source": [
    "y_hat_proba2 = model.predict_proba(df_test, )"
   ]
  },
  {
   "cell_type": "code",
   "execution_count": 43,
   "metadata": {},
   "outputs": [
    {
     "data": {
      "text/plain": [
       "array([[0.94, 0.06],\n",
       "       [0.98, 0.02],\n",
       "       [0.98, 0.02],\n",
       "       [0.98, 0.02],\n",
       "       [1.  , 0.  ],\n",
       "       [0.92, 0.08],\n",
       "       [1.  , 0.  ],\n",
       "       [1.  , 0.  ],\n",
       "       [0.98, 0.02],\n",
       "       [0.94, 0.06],\n",
       "       [0.92, 0.08],\n",
       "       [0.9 , 0.1 ],\n",
       "       [0.88, 0.12],\n",
       "       [0.88, 0.12],\n",
       "       [0.92, 0.08],\n",
       "       [0.98, 0.02],\n",
       "       [0.96, 0.04],\n",
       "       [0.88, 0.12],\n",
       "       [0.94, 0.06],\n",
       "       [0.82, 0.18]])"
      ]
     },
     "execution_count": 43,
     "metadata": {},
     "output_type": "execute_result"
    }
   ],
   "source": [
    "y_hat_proba2[:20]"
   ]
  },
  {
   "cell_type": "code",
   "execution_count": 44,
   "metadata": {},
   "outputs": [
    {
     "data": {
      "text/plain": [
       "array([0, 0, 1, ..., 0, 0, 0], dtype=int64)"
      ]
     },
     "execution_count": 44,
     "metadata": {},
     "output_type": "execute_result"
    }
   ],
   "source": [
    "y_hat2[40:]"
   ]
  },
  {
   "cell_type": "code",
   "execution_count": 45,
   "metadata": {},
   "outputs": [],
   "source": [
    "df_result = df_y_test.copy()"
   ]
  },
  {
   "cell_type": "code",
   "execution_count": 46,
   "metadata": {},
   "outputs": [],
   "source": [
    "df_y_hat2 = pd.DataFrame(y_hat2, columns=['target'])"
   ]
  },
  {
   "cell_type": "code",
   "execution_count": 47,
   "metadata": {},
   "outputs": [
    {
     "data": {
      "text/plain": [
       "(16476, 1)"
      ]
     },
     "execution_count": 47,
     "metadata": {},
     "output_type": "execute_result"
    }
   ],
   "source": [
    "df_y_hat2.shape"
   ]
  },
  {
   "cell_type": "code",
   "execution_count": 48,
   "metadata": {},
   "outputs": [
    {
     "data": {
      "text/plain": [
       "(16476, 1)"
      ]
     },
     "execution_count": 48,
     "metadata": {},
     "output_type": "execute_result"
    }
   ],
   "source": [
    "df_result.shape"
   ]
  },
  {
   "cell_type": "code",
   "execution_count": 49,
   "metadata": {},
   "outputs": [],
   "source": [
    "df_result = df_result.join(df_y_hat2)"
   ]
  },
  {
   "cell_type": "code",
   "execution_count": 50,
   "metadata": {},
   "outputs": [
    {
     "data": {
      "text/plain": [
       "(16476, 2)"
      ]
     },
     "execution_count": 50,
     "metadata": {},
     "output_type": "execute_result"
    }
   ],
   "source": [
    "df_result.shape"
   ]
  },
  {
   "cell_type": "code",
   "execution_count": 51,
   "metadata": {},
   "outputs": [
    {
     "data": {
      "text/html": [
       "<div>\n",
       "<style scoped>\n",
       "    .dataframe tbody tr th:only-of-type {\n",
       "        vertical-align: middle;\n",
       "    }\n",
       "\n",
       "    .dataframe tbody tr th {\n",
       "        vertical-align: top;\n",
       "    }\n",
       "\n",
       "    .dataframe thead th {\n",
       "        text-align: right;\n",
       "    }\n",
       "</style>\n",
       "<table border=\"1\" class=\"dataframe\">\n",
       "  <thead>\n",
       "    <tr style=\"text-align: right;\">\n",
       "      <th></th>\n",
       "      <th>_id</th>\n",
       "      <th>target</th>\n",
       "    </tr>\n",
       "  </thead>\n",
       "  <tbody>\n",
       "    <tr>\n",
       "      <th>0</th>\n",
       "      <td>66810d8e6bf2b41c880a7bc6c8a1e295</td>\n",
       "      <td>0</td>\n",
       "    </tr>\n",
       "    <tr>\n",
       "      <th>1</th>\n",
       "      <td>ccac3879652b08cb8b44c1920fd93afa</td>\n",
       "      <td>0</td>\n",
       "    </tr>\n",
       "    <tr>\n",
       "      <th>2</th>\n",
       "      <td>fcccab4d7a76f70647f015f2c84c2af8</td>\n",
       "      <td>0</td>\n",
       "    </tr>\n",
       "    <tr>\n",
       "      <th>3</th>\n",
       "      <td>ed8399278c30678dab739045fa12b440</td>\n",
       "      <td>0</td>\n",
       "    </tr>\n",
       "    <tr>\n",
       "      <th>4</th>\n",
       "      <td>1d4d62ac5cabcb48bac7112813f290cb</td>\n",
       "      <td>0</td>\n",
       "    </tr>\n",
       "  </tbody>\n",
       "</table>\n",
       "</div>"
      ],
      "text/plain": [
       "                                _id  target\n",
       "0  66810d8e6bf2b41c880a7bc6c8a1e295       0\n",
       "1  ccac3879652b08cb8b44c1920fd93afa       0\n",
       "2  fcccab4d7a76f70647f015f2c84c2af8       0\n",
       "3  ed8399278c30678dab739045fa12b440       0\n",
       "4  1d4d62ac5cabcb48bac7112813f290cb       0"
      ]
     },
     "execution_count": 51,
     "metadata": {},
     "output_type": "execute_result"
    }
   ],
   "source": [
    "df_result.head()"
   ]
  },
  {
   "cell_type": "code",
   "execution_count": 52,
   "metadata": {},
   "outputs": [
    {
     "data": {
      "text/plain": [
       "0    15940\n",
       "1      536\n",
       "Name: target, dtype: int64"
      ]
     },
     "execution_count": 52,
     "metadata": {},
     "output_type": "execute_result"
    }
   ],
   "source": [
    "df_result.loc[:,'target'].value_counts()"
   ]
  },
  {
   "cell_type": "code",
   "execution_count": 53,
   "metadata": {},
   "outputs": [],
   "source": [
    "from sklearn.tree import DecisionTreeClassifier"
   ]
  },
  {
   "cell_type": "code",
   "execution_count": 60,
   "metadata": {},
   "outputs": [],
   "source": [
    "tree_model = DecisionTreeClassifier(criterion='entropy', max_depth=5, random_state=123)"
   ]
  },
  {
   "cell_type": "code",
   "execution_count": 61,
   "metadata": {},
   "outputs": [
    {
     "data": {
      "text/plain": [
       "DecisionTreeClassifier(class_weight=None, criterion='entropy', max_depth=5,\n",
       "            max_features=None, max_leaf_nodes=None,\n",
       "            min_impurity_decrease=0.0, min_impurity_split=None,\n",
       "            min_samples_leaf=1, min_samples_split=2,\n",
       "            min_weight_fraction_leaf=0.0, presort=False, random_state=123,\n",
       "            splitter='best')"
      ]
     },
     "execution_count": 61,
     "metadata": {},
     "output_type": "execute_result"
    }
   ],
   "source": [
    "tree_model.fit(X_train, y_train)"
   ]
  },
  {
   "cell_type": "code",
   "execution_count": 62,
   "metadata": {},
   "outputs": [],
   "source": [
    "y_hat_tree = tree_model.predict(X_test)"
   ]
  },
  {
   "cell_type": "code",
   "execution_count": 63,
   "metadata": {},
   "outputs": [],
   "source": [
    "y_hat_proba_tree = tree_model.predict_proba(X_test, )"
   ]
  },
  {
   "cell_type": "code",
   "execution_count": 64,
   "metadata": {},
   "outputs": [
    {
     "data": {
      "text/plain": [
       "array([[0.99612088, 0.00387912],\n",
       "       [0.99612088, 0.00387912],\n",
       "       [0.81978799, 0.18021201],\n",
       "       [0.88995215, 0.11004785],\n",
       "       [0.51452282, 0.48547718],\n",
       "       [0.88995215, 0.11004785],\n",
       "       [0.99612088, 0.00387912],\n",
       "       [0.97707231, 0.02292769],\n",
       "       [0.26229508, 0.73770492],\n",
       "       [0.99612088, 0.00387912],\n",
       "       [0.15789474, 0.84210526],\n",
       "       [0.99612088, 0.00387912],\n",
       "       [0.97707231, 0.02292769],\n",
       "       [0.99612088, 0.00387912],\n",
       "       [0.99612088, 0.00387912],\n",
       "       [0.99612088, 0.00387912],\n",
       "       [0.32      , 0.68      ],\n",
       "       [0.99612088, 0.00387912],\n",
       "       [0.99612088, 0.00387912],\n",
       "       [0.99612088, 0.00387912]])"
      ]
     },
     "execution_count": 64,
     "metadata": {},
     "output_type": "execute_result"
    }
   ],
   "source": [
    "y_hat_proba_tree[:20]"
   ]
  },
  {
   "cell_type": "code",
   "execution_count": 65,
   "metadata": {},
   "outputs": [
    {
     "data": {
      "text/plain": [
       "0.9194480058527822"
      ]
     },
     "execution_count": 65,
     "metadata": {},
     "output_type": "execute_result"
    }
   ],
   "source": [
    "roc_auc_score(y_test, y_hat_proba_tree[:, 1])"
   ]
  },
  {
   "cell_type": "code",
   "execution_count": 66,
   "metadata": {},
   "outputs": [],
   "source": [
    "y_hat3 = tree_model.predict(df_test)"
   ]
  },
  {
   "cell_type": "code",
   "execution_count": 67,
   "metadata": {},
   "outputs": [],
   "source": [
    "y_hat_proba3 = tree_model.predict_proba(df_test, )"
   ]
  },
  {
   "cell_type": "code",
   "execution_count": 68,
   "metadata": {},
   "outputs": [],
   "source": [
    "df_result_tree = df_y_test.copy()"
   ]
  },
  {
   "cell_type": "code",
   "execution_count": 69,
   "metadata": {},
   "outputs": [
    {
     "data": {
      "text/plain": [
       "(16476, 1)"
      ]
     },
     "execution_count": 69,
     "metadata": {},
     "output_type": "execute_result"
    }
   ],
   "source": [
    "df_result_tree.shape"
   ]
  },
  {
   "cell_type": "code",
   "execution_count": 70,
   "metadata": {},
   "outputs": [],
   "source": [
    "df_y_hat3 = pd.DataFrame(y_hat3, columns=['target'])"
   ]
  },
  {
   "cell_type": "code",
   "execution_count": 71,
   "metadata": {},
   "outputs": [
    {
     "data": {
      "text/plain": [
       "(16476, 1)"
      ]
     },
     "execution_count": 71,
     "metadata": {},
     "output_type": "execute_result"
    }
   ],
   "source": [
    "df_y_hat3.shape"
   ]
  },
  {
   "cell_type": "code",
   "execution_count": 72,
   "metadata": {},
   "outputs": [],
   "source": [
    "df_result_tree = df_result_tree.join(df_y_hat3)"
   ]
  },
  {
   "cell_type": "code",
   "execution_count": 73,
   "metadata": {},
   "outputs": [
    {
     "data": {
      "text/html": [
       "<div>\n",
       "<style scoped>\n",
       "    .dataframe tbody tr th:only-of-type {\n",
       "        vertical-align: middle;\n",
       "    }\n",
       "\n",
       "    .dataframe tbody tr th {\n",
       "        vertical-align: top;\n",
       "    }\n",
       "\n",
       "    .dataframe thead th {\n",
       "        text-align: right;\n",
       "    }\n",
       "</style>\n",
       "<table border=\"1\" class=\"dataframe\">\n",
       "  <thead>\n",
       "    <tr style=\"text-align: right;\">\n",
       "      <th></th>\n",
       "      <th>_id</th>\n",
       "      <th>target</th>\n",
       "    </tr>\n",
       "  </thead>\n",
       "  <tbody>\n",
       "    <tr>\n",
       "      <th>0</th>\n",
       "      <td>66810d8e6bf2b41c880a7bc6c8a1e295</td>\n",
       "      <td>0</td>\n",
       "    </tr>\n",
       "    <tr>\n",
       "      <th>1</th>\n",
       "      <td>ccac3879652b08cb8b44c1920fd93afa</td>\n",
       "      <td>0</td>\n",
       "    </tr>\n",
       "    <tr>\n",
       "      <th>2</th>\n",
       "      <td>fcccab4d7a76f70647f015f2c84c2af8</td>\n",
       "      <td>0</td>\n",
       "    </tr>\n",
       "    <tr>\n",
       "      <th>3</th>\n",
       "      <td>ed8399278c30678dab739045fa12b440</td>\n",
       "      <td>0</td>\n",
       "    </tr>\n",
       "    <tr>\n",
       "      <th>4</th>\n",
       "      <td>1d4d62ac5cabcb48bac7112813f290cb</td>\n",
       "      <td>0</td>\n",
       "    </tr>\n",
       "    <tr>\n",
       "      <th>5</th>\n",
       "      <td>aba2dec4c5cab88824f36babd24b986f</td>\n",
       "      <td>0</td>\n",
       "    </tr>\n",
       "    <tr>\n",
       "      <th>6</th>\n",
       "      <td>06f318f1dd178e738f675bb88a5adb84</td>\n",
       "      <td>0</td>\n",
       "    </tr>\n",
       "    <tr>\n",
       "      <th>7</th>\n",
       "      <td>d5036f5956e42ee6207296238fc4bc1d</td>\n",
       "      <td>0</td>\n",
       "    </tr>\n",
       "    <tr>\n",
       "      <th>8</th>\n",
       "      <td>fe0cc8933698ad4046ff2b82f65756eb</td>\n",
       "      <td>0</td>\n",
       "    </tr>\n",
       "    <tr>\n",
       "      <th>9</th>\n",
       "      <td>70190122f4ebf196535e11b33eb95b81</td>\n",
       "      <td>0</td>\n",
       "    </tr>\n",
       "    <tr>\n",
       "      <th>10</th>\n",
       "      <td>8c2e044ac444afd4d0dea67eba0079c4</td>\n",
       "      <td>0</td>\n",
       "    </tr>\n",
       "    <tr>\n",
       "      <th>11</th>\n",
       "      <td>0d7db1117ed3606d7bbbb65d584b5c2f</td>\n",
       "      <td>0</td>\n",
       "    </tr>\n",
       "    <tr>\n",
       "      <th>12</th>\n",
       "      <td>aa3d1e4ba96323b5449a23cb54badc50</td>\n",
       "      <td>1</td>\n",
       "    </tr>\n",
       "    <tr>\n",
       "      <th>13</th>\n",
       "      <td>d312d9b1ffdab785a806490ca0450f7b</td>\n",
       "      <td>0</td>\n",
       "    </tr>\n",
       "    <tr>\n",
       "      <th>14</th>\n",
       "      <td>56da3f911d7cc5e8f47f2703b74bdc45</td>\n",
       "      <td>0</td>\n",
       "    </tr>\n",
       "    <tr>\n",
       "      <th>15</th>\n",
       "      <td>19afb1a10078e901994a1e1e2c058652</td>\n",
       "      <td>0</td>\n",
       "    </tr>\n",
       "    <tr>\n",
       "      <th>16</th>\n",
       "      <td>9ac0fc025e2f551a7d5214a606a77434</td>\n",
       "      <td>0</td>\n",
       "    </tr>\n",
       "    <tr>\n",
       "      <th>17</th>\n",
       "      <td>4bc819b6f4ebbedca0fe354ba5dc7ba3</td>\n",
       "      <td>0</td>\n",
       "    </tr>\n",
       "    <tr>\n",
       "      <th>18</th>\n",
       "      <td>1c02af75529cdaee5f8822a5251f5c63</td>\n",
       "      <td>0</td>\n",
       "    </tr>\n",
       "    <tr>\n",
       "      <th>19</th>\n",
       "      <td>9d0424c7a80ebde8cc8b5520721592f2</td>\n",
       "      <td>0</td>\n",
       "    </tr>\n",
       "    <tr>\n",
       "      <th>20</th>\n",
       "      <td>cf005d4bc86312d5f1032e08ef342e05</td>\n",
       "      <td>1</td>\n",
       "    </tr>\n",
       "    <tr>\n",
       "      <th>21</th>\n",
       "      <td>6abe7bc6263ac81d7f6764c6b0489703</td>\n",
       "      <td>0</td>\n",
       "    </tr>\n",
       "    <tr>\n",
       "      <th>22</th>\n",
       "      <td>b56ee107fc7abbabfa317f9209cbc5fd</td>\n",
       "      <td>0</td>\n",
       "    </tr>\n",
       "    <tr>\n",
       "      <th>23</th>\n",
       "      <td>2fd2f7790cd8d0c638d55f41b1f323a2</td>\n",
       "      <td>0</td>\n",
       "    </tr>\n",
       "    <tr>\n",
       "      <th>24</th>\n",
       "      <td>bd3b2a1af1abd0d48af835aa69848232</td>\n",
       "      <td>0</td>\n",
       "    </tr>\n",
       "    <tr>\n",
       "      <th>25</th>\n",
       "      <td>d50372645903431bd7ceb57bbf1cea06</td>\n",
       "      <td>0</td>\n",
       "    </tr>\n",
       "    <tr>\n",
       "      <th>26</th>\n",
       "      <td>8a11f5487e2e8a6e91d0ab1b6003b55e</td>\n",
       "      <td>0</td>\n",
       "    </tr>\n",
       "    <tr>\n",
       "      <th>27</th>\n",
       "      <td>ab96e787fdf0827bbebcf95b1243d041</td>\n",
       "      <td>0</td>\n",
       "    </tr>\n",
       "    <tr>\n",
       "      <th>28</th>\n",
       "      <td>233d244d79e364f517c846cb3ab1932a</td>\n",
       "      <td>0</td>\n",
       "    </tr>\n",
       "    <tr>\n",
       "      <th>29</th>\n",
       "      <td>45971d4e3a47775bb5a7260bb5ea3c36</td>\n",
       "      <td>0</td>\n",
       "    </tr>\n",
       "  </tbody>\n",
       "</table>\n",
       "</div>"
      ],
      "text/plain": [
       "                                 _id  target\n",
       "0   66810d8e6bf2b41c880a7bc6c8a1e295       0\n",
       "1   ccac3879652b08cb8b44c1920fd93afa       0\n",
       "2   fcccab4d7a76f70647f015f2c84c2af8       0\n",
       "3   ed8399278c30678dab739045fa12b440       0\n",
       "4   1d4d62ac5cabcb48bac7112813f290cb       0\n",
       "5   aba2dec4c5cab88824f36babd24b986f       0\n",
       "6   06f318f1dd178e738f675bb88a5adb84       0\n",
       "7   d5036f5956e42ee6207296238fc4bc1d       0\n",
       "8   fe0cc8933698ad4046ff2b82f65756eb       0\n",
       "9   70190122f4ebf196535e11b33eb95b81       0\n",
       "10  8c2e044ac444afd4d0dea67eba0079c4       0\n",
       "11  0d7db1117ed3606d7bbbb65d584b5c2f       0\n",
       "12  aa3d1e4ba96323b5449a23cb54badc50       1\n",
       "13  d312d9b1ffdab785a806490ca0450f7b       0\n",
       "14  56da3f911d7cc5e8f47f2703b74bdc45       0\n",
       "15  19afb1a10078e901994a1e1e2c058652       0\n",
       "16  9ac0fc025e2f551a7d5214a606a77434       0\n",
       "17  4bc819b6f4ebbedca0fe354ba5dc7ba3       0\n",
       "18  1c02af75529cdaee5f8822a5251f5c63       0\n",
       "19  9d0424c7a80ebde8cc8b5520721592f2       0\n",
       "20  cf005d4bc86312d5f1032e08ef342e05       1\n",
       "21  6abe7bc6263ac81d7f6764c6b0489703       0\n",
       "22  b56ee107fc7abbabfa317f9209cbc5fd       0\n",
       "23  2fd2f7790cd8d0c638d55f41b1f323a2       0\n",
       "24  bd3b2a1af1abd0d48af835aa69848232       0\n",
       "25  d50372645903431bd7ceb57bbf1cea06       0\n",
       "26  8a11f5487e2e8a6e91d0ab1b6003b55e       0\n",
       "27  ab96e787fdf0827bbebcf95b1243d041       0\n",
       "28  233d244d79e364f517c846cb3ab1932a       0\n",
       "29  45971d4e3a47775bb5a7260bb5ea3c36       0"
      ]
     },
     "execution_count": 73,
     "metadata": {},
     "output_type": "execute_result"
    }
   ],
   "source": [
    "df_result_tree.head(30)"
   ]
  },
  {
   "cell_type": "code",
   "execution_count": 74,
   "metadata": {},
   "outputs": [
    {
     "data": {
      "text/plain": [
       "0    15213\n",
       "1     1263\n",
       "Name: target, dtype: int64"
      ]
     },
     "execution_count": 74,
     "metadata": {},
     "output_type": "execute_result"
    }
   ],
   "source": [
    "df_result_tree.loc[:,'target'].value_counts()"
   ]
  },
  {
   "cell_type": "code",
   "execution_count": 75,
   "metadata": {},
   "outputs": [],
   "source": [
    "from sklearn.linear_model import LogisticRegression"
   ]
  },
  {
   "cell_type": "code",
   "execution_count": 77,
   "metadata": {},
   "outputs": [],
   "source": [
    "logreg_model = LogisticRegression(C=1.0,\n",
    "                           fit_intercept=True, \n",
    "                           penalty='l1')"
   ]
  },
  {
   "cell_type": "code",
   "execution_count": 78,
   "metadata": {},
   "outputs": [
    {
     "data": {
      "text/plain": [
       "LogisticRegression(C=1.0, class_weight=None, dual=False, fit_intercept=True,\n",
       "          intercept_scaling=1, max_iter=100, multi_class='ovr', n_jobs=1,\n",
       "          penalty='l1', random_state=None, solver='liblinear', tol=0.0001,\n",
       "          verbose=0, warm_start=False)"
      ]
     },
     "execution_count": 78,
     "metadata": {},
     "output_type": "execute_result"
    }
   ],
   "source": [
    "logreg_model.fit(X_train, y_train)"
   ]
  },
  {
   "cell_type": "code",
   "execution_count": 79,
   "metadata": {},
   "outputs": [],
   "source": [
    "y_hat_logreg = logreg_model.predict(X_test)"
   ]
  },
  {
   "cell_type": "code",
   "execution_count": 80,
   "metadata": {},
   "outputs": [],
   "source": [
    "y_hat_proba_logreg = logreg_model.predict_proba(X_test, )"
   ]
  },
  {
   "cell_type": "code",
   "execution_count": 81,
   "metadata": {},
   "outputs": [
    {
     "data": {
      "text/plain": [
       "0.9317051660944268"
      ]
     },
     "execution_count": 81,
     "metadata": {},
     "output_type": "execute_result"
    }
   ],
   "source": [
    "roc_auc_score(y_test, y_hat_proba_logreg[:, 1])"
   ]
  },
  {
   "cell_type": "code",
   "execution_count": 82,
   "metadata": {},
   "outputs": [],
   "source": [
    "y_hat4 = tree_model.predict(df_test)"
   ]
  },
  {
   "cell_type": "code",
   "execution_count": 83,
   "metadata": {},
   "outputs": [],
   "source": [
    "y_hat_proba4 = tree_model.predict_proba(df_test, )"
   ]
  },
  {
   "cell_type": "code",
   "execution_count": 84,
   "metadata": {},
   "outputs": [],
   "source": [
    "df_result_logreg = df_y_test.copy()"
   ]
  },
  {
   "cell_type": "code",
   "execution_count": 85,
   "metadata": {},
   "outputs": [
    {
     "data": {
      "text/plain": [
       "(16476, 1)"
      ]
     },
     "execution_count": 85,
     "metadata": {},
     "output_type": "execute_result"
    }
   ],
   "source": [
    "df_result_logreg.shape"
   ]
  },
  {
   "cell_type": "code",
   "execution_count": 86,
   "metadata": {},
   "outputs": [],
   "source": [
    "df_y_hat4 = pd.DataFrame(y_hat4, columns=['target'])"
   ]
  },
  {
   "cell_type": "code",
   "execution_count": 87,
   "metadata": {},
   "outputs": [
    {
     "data": {
      "text/plain": [
       "(16476, 1)"
      ]
     },
     "execution_count": 87,
     "metadata": {},
     "output_type": "execute_result"
    }
   ],
   "source": [
    "df_y_hat4.shape"
   ]
  },
  {
   "cell_type": "code",
   "execution_count": 88,
   "metadata": {},
   "outputs": [],
   "source": [
    "df_result_logreg = df_result_logreg.join(df_y_hat4)"
   ]
  },
  {
   "cell_type": "code",
   "execution_count": 89,
   "metadata": {},
   "outputs": [
    {
     "data": {
      "text/html": [
       "<div>\n",
       "<style scoped>\n",
       "    .dataframe tbody tr th:only-of-type {\n",
       "        vertical-align: middle;\n",
       "    }\n",
       "\n",
       "    .dataframe tbody tr th {\n",
       "        vertical-align: top;\n",
       "    }\n",
       "\n",
       "    .dataframe thead th {\n",
       "        text-align: right;\n",
       "    }\n",
       "</style>\n",
       "<table border=\"1\" class=\"dataframe\">\n",
       "  <thead>\n",
       "    <tr style=\"text-align: right;\">\n",
       "      <th></th>\n",
       "      <th>_id</th>\n",
       "      <th>target</th>\n",
       "    </tr>\n",
       "  </thead>\n",
       "  <tbody>\n",
       "    <tr>\n",
       "      <th>0</th>\n",
       "      <td>66810d8e6bf2b41c880a7bc6c8a1e295</td>\n",
       "      <td>0</td>\n",
       "    </tr>\n",
       "    <tr>\n",
       "      <th>1</th>\n",
       "      <td>ccac3879652b08cb8b44c1920fd93afa</td>\n",
       "      <td>0</td>\n",
       "    </tr>\n",
       "    <tr>\n",
       "      <th>2</th>\n",
       "      <td>fcccab4d7a76f70647f015f2c84c2af8</td>\n",
       "      <td>0</td>\n",
       "    </tr>\n",
       "    <tr>\n",
       "      <th>3</th>\n",
       "      <td>ed8399278c30678dab739045fa12b440</td>\n",
       "      <td>0</td>\n",
       "    </tr>\n",
       "    <tr>\n",
       "      <th>4</th>\n",
       "      <td>1d4d62ac5cabcb48bac7112813f290cb</td>\n",
       "      <td>0</td>\n",
       "    </tr>\n",
       "    <tr>\n",
       "      <th>5</th>\n",
       "      <td>aba2dec4c5cab88824f36babd24b986f</td>\n",
       "      <td>0</td>\n",
       "    </tr>\n",
       "    <tr>\n",
       "      <th>6</th>\n",
       "      <td>06f318f1dd178e738f675bb88a5adb84</td>\n",
       "      <td>0</td>\n",
       "    </tr>\n",
       "    <tr>\n",
       "      <th>7</th>\n",
       "      <td>d5036f5956e42ee6207296238fc4bc1d</td>\n",
       "      <td>0</td>\n",
       "    </tr>\n",
       "    <tr>\n",
       "      <th>8</th>\n",
       "      <td>fe0cc8933698ad4046ff2b82f65756eb</td>\n",
       "      <td>0</td>\n",
       "    </tr>\n",
       "    <tr>\n",
       "      <th>9</th>\n",
       "      <td>70190122f4ebf196535e11b33eb95b81</td>\n",
       "      <td>0</td>\n",
       "    </tr>\n",
       "    <tr>\n",
       "      <th>10</th>\n",
       "      <td>8c2e044ac444afd4d0dea67eba0079c4</td>\n",
       "      <td>0</td>\n",
       "    </tr>\n",
       "    <tr>\n",
       "      <th>11</th>\n",
       "      <td>0d7db1117ed3606d7bbbb65d584b5c2f</td>\n",
       "      <td>0</td>\n",
       "    </tr>\n",
       "    <tr>\n",
       "      <th>12</th>\n",
       "      <td>aa3d1e4ba96323b5449a23cb54badc50</td>\n",
       "      <td>1</td>\n",
       "    </tr>\n",
       "    <tr>\n",
       "      <th>13</th>\n",
       "      <td>d312d9b1ffdab785a806490ca0450f7b</td>\n",
       "      <td>0</td>\n",
       "    </tr>\n",
       "    <tr>\n",
       "      <th>14</th>\n",
       "      <td>56da3f911d7cc5e8f47f2703b74bdc45</td>\n",
       "      <td>0</td>\n",
       "    </tr>\n",
       "    <tr>\n",
       "      <th>15</th>\n",
       "      <td>19afb1a10078e901994a1e1e2c058652</td>\n",
       "      <td>0</td>\n",
       "    </tr>\n",
       "    <tr>\n",
       "      <th>16</th>\n",
       "      <td>9ac0fc025e2f551a7d5214a606a77434</td>\n",
       "      <td>0</td>\n",
       "    </tr>\n",
       "    <tr>\n",
       "      <th>17</th>\n",
       "      <td>4bc819b6f4ebbedca0fe354ba5dc7ba3</td>\n",
       "      <td>0</td>\n",
       "    </tr>\n",
       "    <tr>\n",
       "      <th>18</th>\n",
       "      <td>1c02af75529cdaee5f8822a5251f5c63</td>\n",
       "      <td>0</td>\n",
       "    </tr>\n",
       "    <tr>\n",
       "      <th>19</th>\n",
       "      <td>9d0424c7a80ebde8cc8b5520721592f2</td>\n",
       "      <td>0</td>\n",
       "    </tr>\n",
       "    <tr>\n",
       "      <th>20</th>\n",
       "      <td>cf005d4bc86312d5f1032e08ef342e05</td>\n",
       "      <td>1</td>\n",
       "    </tr>\n",
       "    <tr>\n",
       "      <th>21</th>\n",
       "      <td>6abe7bc6263ac81d7f6764c6b0489703</td>\n",
       "      <td>0</td>\n",
       "    </tr>\n",
       "    <tr>\n",
       "      <th>22</th>\n",
       "      <td>b56ee107fc7abbabfa317f9209cbc5fd</td>\n",
       "      <td>0</td>\n",
       "    </tr>\n",
       "    <tr>\n",
       "      <th>23</th>\n",
       "      <td>2fd2f7790cd8d0c638d55f41b1f323a2</td>\n",
       "      <td>0</td>\n",
       "    </tr>\n",
       "    <tr>\n",
       "      <th>24</th>\n",
       "      <td>bd3b2a1af1abd0d48af835aa69848232</td>\n",
       "      <td>0</td>\n",
       "    </tr>\n",
       "    <tr>\n",
       "      <th>25</th>\n",
       "      <td>d50372645903431bd7ceb57bbf1cea06</td>\n",
       "      <td>0</td>\n",
       "    </tr>\n",
       "    <tr>\n",
       "      <th>26</th>\n",
       "      <td>8a11f5487e2e8a6e91d0ab1b6003b55e</td>\n",
       "      <td>0</td>\n",
       "    </tr>\n",
       "    <tr>\n",
       "      <th>27</th>\n",
       "      <td>ab96e787fdf0827bbebcf95b1243d041</td>\n",
       "      <td>0</td>\n",
       "    </tr>\n",
       "    <tr>\n",
       "      <th>28</th>\n",
       "      <td>233d244d79e364f517c846cb3ab1932a</td>\n",
       "      <td>0</td>\n",
       "    </tr>\n",
       "    <tr>\n",
       "      <th>29</th>\n",
       "      <td>45971d4e3a47775bb5a7260bb5ea3c36</td>\n",
       "      <td>0</td>\n",
       "    </tr>\n",
       "  </tbody>\n",
       "</table>\n",
       "</div>"
      ],
      "text/plain": [
       "                                 _id  target\n",
       "0   66810d8e6bf2b41c880a7bc6c8a1e295       0\n",
       "1   ccac3879652b08cb8b44c1920fd93afa       0\n",
       "2   fcccab4d7a76f70647f015f2c84c2af8       0\n",
       "3   ed8399278c30678dab739045fa12b440       0\n",
       "4   1d4d62ac5cabcb48bac7112813f290cb       0\n",
       "5   aba2dec4c5cab88824f36babd24b986f       0\n",
       "6   06f318f1dd178e738f675bb88a5adb84       0\n",
       "7   d5036f5956e42ee6207296238fc4bc1d       0\n",
       "8   fe0cc8933698ad4046ff2b82f65756eb       0\n",
       "9   70190122f4ebf196535e11b33eb95b81       0\n",
       "10  8c2e044ac444afd4d0dea67eba0079c4       0\n",
       "11  0d7db1117ed3606d7bbbb65d584b5c2f       0\n",
       "12  aa3d1e4ba96323b5449a23cb54badc50       1\n",
       "13  d312d9b1ffdab785a806490ca0450f7b       0\n",
       "14  56da3f911d7cc5e8f47f2703b74bdc45       0\n",
       "15  19afb1a10078e901994a1e1e2c058652       0\n",
       "16  9ac0fc025e2f551a7d5214a606a77434       0\n",
       "17  4bc819b6f4ebbedca0fe354ba5dc7ba3       0\n",
       "18  1c02af75529cdaee5f8822a5251f5c63       0\n",
       "19  9d0424c7a80ebde8cc8b5520721592f2       0\n",
       "20  cf005d4bc86312d5f1032e08ef342e05       1\n",
       "21  6abe7bc6263ac81d7f6764c6b0489703       0\n",
       "22  b56ee107fc7abbabfa317f9209cbc5fd       0\n",
       "23  2fd2f7790cd8d0c638d55f41b1f323a2       0\n",
       "24  bd3b2a1af1abd0d48af835aa69848232       0\n",
       "25  d50372645903431bd7ceb57bbf1cea06       0\n",
       "26  8a11f5487e2e8a6e91d0ab1b6003b55e       0\n",
       "27  ab96e787fdf0827bbebcf95b1243d041       0\n",
       "28  233d244d79e364f517c846cb3ab1932a       0\n",
       "29  45971d4e3a47775bb5a7260bb5ea3c36       0"
      ]
     },
     "execution_count": 89,
     "metadata": {},
     "output_type": "execute_result"
    }
   ],
   "source": [
    "df_result_logreg.head(30)"
   ]
  },
  {
   "cell_type": "code",
   "execution_count": 90,
   "metadata": {},
   "outputs": [
    {
     "data": {
      "text/plain": [
       "0    15213\n",
       "1     1263\n",
       "Name: target, dtype: int64"
      ]
     },
     "execution_count": 90,
     "metadata": {},
     "output_type": "execute_result"
    }
   ],
   "source": [
    "df_result_logreg.loc[:,'target'].value_counts()"
   ]
  },
  {
   "cell_type": "code",
   "execution_count": 91,
   "metadata": {},
   "outputs": [],
   "source": [
    "df_result_logreg.to_csv('submission.csv', sep=',', encoding='utf-8', index=False)"
   ]
  },
  {
   "cell_type": "code",
   "execution_count": null,
   "metadata": {},
   "outputs": [],
   "source": []
  }
 ],
 "metadata": {
  "kernelspec": {
   "display_name": "Python 3",
   "language": "python",
   "name": "python3"
  },
  "language_info": {
   "codemirror_mode": {
    "name": "ipython",
    "version": 3
   },
   "file_extension": ".py",
   "mimetype": "text/x-python",
   "name": "python",
   "nbconvert_exporter": "python",
   "pygments_lexer": "ipython3",
   "version": "3.6.5"
  }
 },
 "nbformat": 4,
 "nbformat_minor": 2
}
